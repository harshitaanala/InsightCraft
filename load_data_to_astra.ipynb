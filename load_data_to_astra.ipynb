{
 "cells": [
  {
   "cell_type": "code",
   "execution_count": null,
   "metadata": {},
   "outputs": [],
   "source": []
  },
  {
   "cell_type": "code",
   "execution_count": 1,
   "metadata": {},
   "outputs": [],
   "source": [
    "\n",
    "import pandas as pd"
   ]
  },
  {
   "cell_type": "code",
   "execution_count": 2,
   "metadata": {},
   "outputs": [],
   "source": [
    "from cassandra.cluster import Cluster\n",
    "from cassandra.auth import PlainTextAuthProvider"
   ]
  },
  {
   "cell_type": "code",
   "execution_count": 5,
   "metadata": {},
   "outputs": [],
   "source": [
    "# Astra DB credentials\n",
    "ASTRA_DB_CLIENT_ID = \"vshpOYJHmbNURkZzrdggKXGo\"  \n",
    "ASTRA_DB_CLIENT_SECRET = \"j1F,zphmnR2kZXYFZa-6NCU_seRaAR4-ktZIYqBrsOk3Yh20ayD0QA1Zwlf6Z.8QIyUMtdP8aZcpGHOZw9nOI9Nc_7j1vw81K2J1f3oCF_yLBEBrLmvi4gN573QHhN38\"  \n",
    "SECURE_CONNECT_BUNDLE = r\"C:\\Users\\Admin\\Downloads\\secure-connect-social-media-data.zip\"  "
   ]
  },
  {
   "cell_type": "code",
   "execution_count": 6,
   "metadata": {},
   "outputs": [],
   "source": [
    "# Connection to Astra DB\n",
    "auth_provider = PlainTextAuthProvider(ASTRA_DB_CLIENT_ID, ASTRA_DB_CLIENT_SECRET)\n",
    "cluster = Cluster(cloud={'secure_connect_bundle': SECURE_CONNECT_BUNDLE}, auth_provider=auth_provider)\n",
    "session = cluster.connect()"
   ]
  },
  {
   "cell_type": "code",
   "execution_count": 7,
   "metadata": {},
   "outputs": [],
   "source": [
    "\n",
    "keyspace = \"default_keyspace\"  \n",
    "session.set_keyspace(keyspace)"
   ]
  },
  {
   "cell_type": "code",
   "execution_count": 8,
   "metadata": {},
   "outputs": [],
   "source": [
    "\n",
    "insert_query = \"\"\"\n",
    "    INSERT INTO post_metrics (post_id, comments,likes, post_type, shares)\n",
    "    VALUES (%s, %s, %s, %s, %s)\n",
    "\"\"\""
   ]
  },
  {
   "cell_type": "code",
   "execution_count": 10,
   "metadata": {},
   "outputs": [],
   "source": [
    "import csv"
   ]
  },
  {
   "cell_type": "code",
   "execution_count": 12,
   "metadata": {},
   "outputs": [],
   "source": [
    "from cassandra.query import BatchStatement"
   ]
  },
  {
   "cell_type": "code",
   "execution_count": 15,
   "metadata": {},
   "outputs": [],
   "source": [
    "from uuid import uuid4"
   ]
  },
  {
   "cell_type": "code",
   "execution_count": 16,
   "metadata": {},
   "outputs": [
    {
     "name": "stdout",
     "output_type": "stream",
     "text": [
      "Data inserted successfully\n"
     ]
    }
   ],
   "source": [
    "\n",
    "csv_file_path = r\"C:\\Users\\Admin\\Desktop\\InsightFlow\\mock_engagement_data.csv\"  \n",
    "with open(csv_file_path, 'r') as file:\n",
    "    csv_reader = csv.DictReader(file)\n",
    "    \n",
    "   \n",
    "    batch = BatchStatement()\n",
    "\n",
    "    \n",
    "    for row in csv_reader:\n",
    "        \n",
    "        post_id = uuid4()\n",
    "        \n",
    "       \n",
    "        post_type = row['post_type']\n",
    "        likes = int(row['likes'])\n",
    "        shares = int(row['shares'])\n",
    "        comments = int(row['comments'])\n",
    "        \n",
    "        \n",
    "        batch.add(insert_query, (post_id, comments, likes, post_type, shares ))\n",
    "\n",
    "    \n",
    "    session.execute(batch)\n",
    "print(\"Data inserted successfully\")"
   ]
  },
  {
   "cell_type": "code",
   "execution_count": 17,
   "metadata": {},
   "outputs": [],
   "source": [
    "query = \"SELECT post_type, likes, shares, comments FROM post_metrics\"\n",
    "rows = session.execute(query)"
   ]
  },
  {
   "cell_type": "code",
   "execution_count": 20,
   "metadata": {},
   "outputs": [],
   "source": [
    "data = pd.DataFrame(rows, columns=['post_type', 'likes', 'shares', 'comments'])"
   ]
  },
  {
   "cell_type": "code",
   "execution_count": 21,
   "metadata": {},
   "outputs": [],
   "source": [
    "average_metrics = data.groupby('post_type')[['likes', 'shares', 'comments']].mean().reset_index()"
   ]
  },
  {
   "cell_type": "code",
   "execution_count": 22,
   "metadata": {},
   "outputs": [
    {
     "name": "stdout",
     "output_type": "stream",
     "text": [
      "      post_type       likes      shares    comments\n",
      "0      Carousel  347.387195   74.457317   29.929878\n",
      "1         Reels  742.471299  197.262840  124.450151\n",
      "2  Static_Image  200.014663   34.956012   14.941349\n"
     ]
    }
   ],
   "source": [
    "print(average_metrics)"
   ]
  },
  {
   "cell_type": "code",
   "execution_count": null,
   "metadata": {},
   "outputs": [],
   "source": [
    "# Closing the connection\n",
    "cluster.shutdown()"
   ]
  }
 ],
 "metadata": {
  "kernelspec": {
   "display_name": "Python 3",
   "language": "python",
   "name": "python3"
  },
  "language_info": {
   "codemirror_mode": {
    "name": "ipython",
    "version": 3
   },
   "file_extension": ".py",
   "mimetype": "text/x-python",
   "name": "python",
   "nbconvert_exporter": "python",
   "pygments_lexer": "ipython3",
   "version": "3.9.0"
  }
 },
 "nbformat": 4,
 "nbformat_minor": 2
}
